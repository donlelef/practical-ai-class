{
 "cells": [
  {
   "cell_type": "markdown",
   "metadata": {
    "id": "e0OxSc7Fpix-"
   },
   "source": [
    "# Logistic Regression"
   ]
  },
  {
   "cell_type": "markdown",
   "metadata": {
    "deletable": true,
    "editable": true,
    "id": "-bOLdwaDpix-"
   },
   "source": [
    "As linear regression is a good starting point for regression tasks, logisti regression is a nice baseline for classification tasks. Being similar to linear regression, logistic models are easy to fit and to interpret.\n",
    "\n",
    "In this section we will start with a quick intuitive walk-through of the mathematics behind this well-known problem, before seeing how before moving on to see how linear models can be generalized to account for more complicated patterns in data.\n",
    "\n",
    "We begin with the standard imports:"
   ]
  },
  {
   "cell_type": "code",
   "execution_count": null,
   "metadata": {
    "deletable": true,
    "editable": true,
    "executionInfo": {
     "elapsed": 959,
     "status": "ok",
     "timestamp": 1663060557396,
     "user": {
      "displayName": "Emanuele Fabbiani",
      "userId": "14148944018343998200"
     },
     "user_tz": -120
    },
    "id": "vtJmbrJApix_"
   },
   "outputs": [],
   "source": [
    "import matplotlib.pyplot as plt\n",
    "import seaborn as sns\n",
    "import numpy as np\n",
    "\n",
    "plt.style.use(\"seaborn-whitegrid\")\n",
    "plt.rcParams[\"figure.figsize\"] = (14, 8)"
   ]
  },
  {
   "cell_type": "markdown",
   "metadata": {
    "deletable": true,
    "editable": true,
    "id": "3ScMPekopiyA"
   },
   "source": [
    "## Simple Logistic Regression\n",
    "\n",
    "We will start with the simplest possible logistic regression, where only one feature is considered. Then, the model is:\n",
    "$$\n",
    "P(Y=1 | X=x) = \\frac{e^{\\beta x}}{1+e^{\\beta x}} = \\frac{e^{\\beta_0 + \\beta_1x_1}}{1+e^{\\beta_0 + \\beta_1x_1}}.\n",
    "$$\n",
    "\n",
    "We will build a dataset which is linearly separable."
   ]
  },
  {
   "cell_type": "code",
   "execution_count": null,
   "metadata": {
    "colab": {
     "base_uri": "https://localhost:8080/",
     "height": 479
    },
    "deletable": true,
    "editable": true,
    "executionInfo": {
     "elapsed": 15,
     "status": "ok",
     "timestamp": 1663060557398,
     "user": {
      "displayName": "Emanuele Fabbiani",
      "userId": "14148944018343998200"
     },
     "user_tz": -120
    },
    "id": "DHdx-mqFpiyB",
    "outputId": "37091171-d542-475e-f5bb-8ad348fa9ddd"
   },
   "outputs": [],
   "source": [
    "rng = np.random.RandomState(42)\n",
    "x = np.concatenate([3 * rng.rand(50), 10 - 3 * rng.rand(50)])\n",
    "y = np.array([0] * 50 + [1] * 50)\n",
    "plt.scatter(x, y);"
   ]
  },
  {
   "cell_type": "markdown",
   "metadata": {
    "deletable": true,
    "editable": true,
    "id": "emJAzu-RpiyC"
   },
   "source": [
    "We can use Scikit-Learn's ``LinearRegression`` estimator to fit this data and construct the best-fit line:"
   ]
  },
  {
   "cell_type": "code",
   "execution_count": null,
   "metadata": {
    "executionInfo": {
     "elapsed": 13,
     "status": "ok",
     "timestamp": 1663060557399,
     "user": {
      "displayName": "Emanuele Fabbiani",
      "userId": "14148944018343998200"
     },
     "user_tz": -120
    },
    "id": "sWdUm8yILRvV"
   },
   "outputs": [],
   "source": [
    "from sklearn.linear_model import LogisticRegression\n",
    "\n",
    "\n",
    "def plot_fitted_logistic(\n",
    "    fitted_model: LogisticRegression, x: np.array, y: np.array\n",
    ") -> None:\n",
    "    xproba = np.linspace(0, 10, 1000)\n",
    "    yproba = fitted_model.predict_proba(xproba[:, np.newaxis])[:, 1]\n",
    "    ypred = fitted_model.predict(x[:, np.newaxis])\n",
    "\n",
    "    prediction_is_1 = (ypred > 0.5).astype(\"int\")\n",
    "    predicted_proba_is_one_half = 10 * sum(yproba < 0.5) / 1000\n",
    "\n",
    "    plt.scatter(x, y, c=prediction_is_1, cmap=\"Paired\")\n",
    "    plt.axvline(x=predicted_proba_is_one_half, linestyle=\"--\", color=\"gray\")\n",
    "    plt.plot(xproba, yproba)"
   ]
  },
  {
   "cell_type": "code",
   "execution_count": null,
   "metadata": {
    "colab": {
     "base_uri": "https://localhost:8080/",
     "height": 479
    },
    "deletable": true,
    "editable": true,
    "executionInfo": {
     "elapsed": 851,
     "status": "ok",
     "timestamp": 1663060558238,
     "user": {
      "displayName": "Emanuele Fabbiani",
      "userId": "14148944018343998200"
     },
     "user_tz": -120
    },
    "id": "1LcdIr2_piyC",
    "outputId": "f92e2b70-3926-4eb9-c594-25b796353321"
   },
   "outputs": [],
   "source": [
    "model = LogisticRegression(fit_intercept=True)\n",
    "model.fit(x[:, np.newaxis], y)\n",
    "plot_fitted_logistic(model, x, y)"
   ]
  },
  {
   "cell_type": "markdown",
   "metadata": {
    "deletable": true,
    "editable": true,
    "id": "JNnystt2piyD"
   },
   "source": [
    "The logistic function is here so steep that is looks like a step function - even if it is not! We can have a look to the models parameters:"
   ]
  },
  {
   "cell_type": "code",
   "execution_count": null,
   "metadata": {
    "colab": {
     "base_uri": "https://localhost:8080/"
    },
    "deletable": true,
    "editable": true,
    "executionInfo": {
     "elapsed": 9,
     "status": "ok",
     "timestamp": 1663060558238,
     "user": {
      "displayName": "Emanuele Fabbiani",
      "userId": "14148944018343998200"
     },
     "user_tz": -120
    },
    "id": "LTuNJJuopiyE",
    "outputId": "8cce939c-2cb2-4d2c-bbbf-720f87551fd9"
   },
   "outputs": [],
   "source": [
    "print(\"Model slope:    \", model.coef_[0])\n",
    "print(\"Model intercept:\", model.intercept_)"
   ]
  },
  {
   "cell_type": "markdown",
   "metadata": {
    "id": "Cgv54QTDsR-G"
   },
   "source": [
    "As with linear regression, we can also use `statsmodels`, which provides deeper statistical information and allows for greater analysis."
   ]
  },
  {
   "cell_type": "markdown",
   "metadata": {
    "id": "yHeau7rwFXvR"
   },
   "source": [
    "However, this was way too easy. Let's try to prevent a perfect separation."
   ]
  },
  {
   "cell_type": "code",
   "execution_count": null,
   "metadata": {
    "colab": {
     "base_uri": "https://localhost:8080/",
     "height": 479
    },
    "executionInfo": {
     "elapsed": 8,
     "status": "ok",
     "timestamp": 1663060558239,
     "user": {
      "displayName": "Emanuele Fabbiani",
      "userId": "14148944018343998200"
     },
     "user_tz": -120
    },
    "id": "2ay3p6VHFfuT",
    "outputId": "d0c0ce0e-b0cb-46b5-c33f-d98bb5b8ba65"
   },
   "outputs": [],
   "source": [
    "x = np.concatenate([6 * rng.rand(50), 10 - 6 * rng.rand(50)])\n",
    "y = np.array([0] * 50 + [1] * 50)\n",
    "\n",
    "model.fit(x[:, np.newaxis], y)\n",
    "\n",
    "plot_fitted_logistic(model, x, y)"
   ]
  },
  {
   "cell_type": "markdown",
   "metadata": {
    "id": "-Eglt8obOWji"
   },
   "source": [
    "We can also consider this other example"
   ]
  },
  {
   "cell_type": "code",
   "execution_count": null,
   "metadata": {
    "colab": {
     "base_uri": "https://localhost:8080/",
     "height": 479
    },
    "executionInfo": {
     "elapsed": 792,
     "status": "ok",
     "timestamp": 1663060559024,
     "user": {
      "displayName": "Emanuele Fabbiani",
      "userId": "14148944018343998200"
     },
     "user_tz": -120
    },
    "id": "4ZZKVusCOaNq",
    "outputId": "0c28fcae-d7d4-475e-bb0a-df06036d8c89"
   },
   "outputs": [],
   "source": [
    "x = np.concatenate([2 * rng.rand(50), 4 + 2 * rng.rand(50), 10 - 2 * rng.rand(50)])\n",
    "y = np.array([0] * 50 + [1] * 50 + [0] * 50)\n",
    "\n",
    "model.fit(x[:, np.newaxis], y)\n",
    "\n",
    "plot_fitted_logistic(model, x, y)"
   ]
  },
  {
   "cell_type": "markdown",
   "metadata": {
    "id": "OrZoGELuO0zK"
   },
   "source": [
    "However, in this case it may be useful to apply the same trick adopted for linear regression and use basis functions. Polynomials, for instance. "
   ]
  },
  {
   "cell_type": "code",
   "execution_count": null,
   "metadata": {
    "colab": {
     "base_uri": "https://localhost:8080/",
     "height": 479
    },
    "executionInfo": {
     "elapsed": 8,
     "status": "ok",
     "timestamp": 1663060559025,
     "user": {
      "displayName": "Emanuele Fabbiani",
      "userId": "14148944018343998200"
     },
     "user_tz": -120
    },
    "id": "bVJKlsWrOzxa",
    "outputId": "e89008e9-ba20-4db5-eeb6-23df14fd253b"
   },
   "outputs": [],
   "source": [
    "model.fit(np.array([x, x**2]).T, y)\n",
    "\n",
    "xproba = np.linspace(0, 10, 1000)\n",
    "yproba = model.predict_proba(np.array([xproba, xproba**2]).T)[:, 1]\n",
    "ypred = model.predict(np.array([x, x**2]).T)\n",
    "\n",
    "prediction_is_1 = (ypred > 0.5).astype(\"int\")\n",
    "\n",
    "plt.scatter(x, y, c=prediction_is_1, cmap=\"Paired\")\n",
    "plt.plot(xproba, yproba);"
   ]
  },
  {
   "cell_type": "markdown",
   "metadata": {
    "id": "JjKe20iMRR4r"
   },
   "source": [
    "The trick was made possible by the fact that, in the two-dimensional space spanned by $x$ and $x^2$, the classes are linearly separable. "
   ]
  },
  {
   "cell_type": "code",
   "execution_count": null,
   "metadata": {
    "colab": {
     "base_uri": "https://localhost:8080/",
     "height": 483
    },
    "executionInfo": {
     "elapsed": 890,
     "status": "ok",
     "timestamp": 1663060559909,
     "user": {
      "displayName": "Emanuele Fabbiani",
      "userId": "14148944018343998200"
     },
     "user_tz": -120
    },
    "id": "ySwGz-toRthR",
    "outputId": "7afcb615-644e-4ed8-d45e-801ddb5aeb72"
   },
   "outputs": [],
   "source": [
    "xproba_100 = np.linspace(0, 10, 100)\n",
    "\n",
    "x_mesh, x2_mesh = np.meshgrid(xproba_100, xproba_100**2)\n",
    "predicted_proba_mesh = np.zeros_like(x_mesh)\n",
    "for i in range(x_mesh.shape[0]):\n",
    "    for j in range(x_mesh.shape[1]):\n",
    "        sample = np.array([x_mesh[i, j], x2_mesh[i, j]]).reshape(1, -1)\n",
    "        predicted_proba_mesh[i, j] = model.predict_proba(sample)[\n",
    "            :, 1\n",
    "        ]  # predicting every value in a loop is very inefficient, don't do it in a real analysis.\n",
    "\n",
    "plt.contourf(x_mesh, x2_mesh, predicted_proba_mesh, 100)\n",
    "plt.scatter(x, x**2, c=y, cmap=\"Paired\");"
   ]
  },
  {
   "cell_type": "markdown",
   "metadata": {
    "id": "OLwMMtxYZDT6"
   },
   "source": [
    "In the previous chart, dots represent the samples, while the shadow the value of the model-predicted probabilities. Back means probability 1, white indicates probability 0.\n",
    "\n",
    "If basis functions are so effective, one may think about using more and more. This leads to overfitting, and calls for regularization. \n",
    "\n",
    "However, there is another way: using kernels, that is functions which represent similarity in spaces spanned by infinitely many basis functions. This is outside the scope of this course, but you may find a great discussion in Elements of Statistical Learning."
   ]
  },
  {
   "cell_type": "markdown",
   "metadata": {
    "deletable": true,
    "editable": true,
    "id": "Ot9ShPN2piyL"
   },
   "source": [
    "## Example: predicting diabetes\n",
    "We are given some clinical and anagraphic features for a bunch of patients. We want to detect the ones affected by diabetes.\n",
    "\n",
    "### Dataset \n",
    "This dataset is originally from the National Institute of Diabetes and Digestive and Kidney Diseases. The objective of the dataset is to diagnostically predict whether or not a patient has diabetes, based on certain diagnostic measurements included in the dataset. Several constraints were placed on the selection of these instances from a larger database. In particular, all patients here are females at least 21 years old of Pima Indian heritage. \n",
    "\n",
    "The datasets consists of several medical predictor variables and one target variable, Outcome. Predictor variables includes the number of pregnancies the patient has had, their BMI, insulin level, age, and so on.\n",
    "\n",
    "More information here: https://www.kaggle.com/datasets/uciml/pima-indians-diabetes-database."
   ]
  },
  {
   "cell_type": "markdown",
   "metadata": {
    "id": "-JRvEEzJ5zp8"
   },
   "source": [
    "## Data Exploration & Preparation\n",
    "We install the latest version of plotly\n"
   ]
  },
  {
   "cell_type": "code",
   "execution_count": null,
   "metadata": {
    "colab": {
     "base_uri": "https://localhost:8080/"
    },
    "executionInfo": {
     "elapsed": 44309,
     "status": "ok",
     "timestamp": 1663060604213,
     "user": {
      "displayName": "Emanuele Fabbiani",
      "userId": "14148944018343998200"
     },
     "user_tz": -120
    },
    "id": "H4Q0eSdf54zd",
    "outputId": "6f73a557-605e-44c7-b690-4978d8d67188"
   },
   "outputs": [],
   "source": [
    "! pip install --upgrade plotly"
   ]
  },
  {
   "cell_type": "markdown",
   "metadata": {
    "id": "RIeNPKJb5_ab"
   },
   "source": [
    "### Importing data\n",
    "We use pandas to read the data."
   ]
  },
  {
   "cell_type": "code",
   "execution_count": null,
   "metadata": {
    "colab": {
     "base_uri": "https://localhost:8080/",
     "height": 206
    },
    "executionInfo": {
     "elapsed": 591,
     "status": "ok",
     "timestamp": 1663060604799,
     "user": {
      "displayName": "Emanuele Fabbiani",
      "userId": "14148944018343998200"
     },
     "user_tz": -120
    },
    "id": "ORrZ7MUr6AFK",
    "outputId": "ef6bc95a-9f9a-4e48-863f-a11ea1254ccb"
   },
   "outputs": [],
   "source": [
    "import pandas as pd\n",
    "\n",
    "diabetes_raw = pd.read_csv(\n",
    "    \"https://raw.githubusercontent.com/npradaschnor/Pima-Indians-Diabetes-Dataset/master/diabetes.csv\"\n",
    ")\n",
    "diabetes_raw.head()"
   ]
  },
  {
   "cell_type": "markdown",
   "metadata": {
    "id": "M-zVtAWG6HPv"
   },
   "source": [
    "First, let us check if there are really no missing data."
   ]
  },
  {
   "cell_type": "code",
   "execution_count": null,
   "metadata": {
    "colab": {
     "base_uri": "https://localhost:8080/"
    },
    "executionInfo": {
     "elapsed": 11,
     "status": "ok",
     "timestamp": 1663060604800,
     "user": {
      "displayName": "Emanuele Fabbiani",
      "userId": "14148944018343998200"
     },
     "user_tz": -120
    },
    "id": "xNfNLIob56r2",
    "outputId": "fe4c35f3-115d-4a32-8eba-4a086e1fb7c8"
   },
   "outputs": [],
   "source": [
    "diabetes_raw.isna().sum()"
   ]
  },
  {
   "cell_type": "markdown",
   "metadata": {
    "id": "RbOtqBEo6Lb_"
   },
   "source": [
    "Then, let us check the standard summary of the dataset.\n",
    "\n"
   ]
  },
  {
   "cell_type": "code",
   "execution_count": null,
   "metadata": {
    "colab": {
     "base_uri": "https://localhost:8080/",
     "height": 332
    },
    "executionInfo": {
     "elapsed": 9,
     "status": "ok",
     "timestamp": 1663060604800,
     "user": {
      "displayName": "Emanuele Fabbiani",
      "userId": "14148944018343998200"
     },
     "user_tz": -120
    },
    "id": "Ckx8nKab6bM7",
    "outputId": "1aee35e2-6d10-466b-e732-b169f3a68c89"
   },
   "outputs": [],
   "source": [
    "diabetes_raw.describe().T"
   ]
  },
  {
   "cell_type": "markdown",
   "metadata": {
    "id": "6sHmDYcp6guy"
   },
   "source": [
    "There is something wierd about all those zeros as minimum values. Glucose, blod pressure, BMI, skin thickness, and insuline cannot be zero: we do not believe these are real values. \n",
    "\n",
    "In the real world, we would have two options:\n",
    "- we replace the zeros with reasonable values or,\n",
    "- we drop the rows.\n",
    "\n",
    "When dealing with a large enough dataset, dropping is usually the best option, as it does not introduce unnecessary bias.\n",
    "\n",
    "However, here we prefer to replace, so that we keep enough data to creare reasonable plots and analyses.\n",
    "\n",
    "In order to understand how to impute the data, we plot the univariate distributions.\n"
   ]
  },
  {
   "cell_type": "code",
   "execution_count": null,
   "metadata": {
    "colab": {
     "base_uri": "https://localhost:8080/",
     "height": 494
    },
    "executionInfo": {
     "elapsed": 2171,
     "status": "ok",
     "timestamp": 1663060606964,
     "user": {
      "displayName": "Emanuele Fabbiani",
      "userId": "14148944018343998200"
     },
     "user_tz": -120
    },
    "id": "y91_vg5eH2JJ",
    "outputId": "d9b7d485-b545-4bba-8872-a971e4b92104"
   },
   "outputs": [],
   "source": [
    "diabetes_raw.hist(bins=30);"
   ]
  },
  {
   "cell_type": "markdown",
   "metadata": {
    "id": "gub2ZwzLIYLG"
   },
   "source": [
    "We see that Glucose and BloodPressure do not have meaningful outliers apart from 0, while the other three variables interested by the strange zeros have. Therefore, we choose the mean for Glucose and BloodPressure and the median for all the other variables."
   ]
  },
  {
   "cell_type": "code",
   "execution_count": null,
   "metadata": {
    "executionInfo": {
     "elapsed": 7,
     "status": "ok",
     "timestamp": 1663060606965,
     "user": {
      "displayName": "Emanuele Fabbiani",
      "userId": "14148944018343998200"
     },
     "user_tz": -120
    },
    "id": "0UP6Amu4IYYS"
   },
   "outputs": [],
   "source": [
    "diabetes_df = diabetes_raw.copy()\n",
    "diabetes_df.loc[:, [\"Glucose\", \"BloodPressure\", \"SkinThickness\", \"Insulin\", \"BMI\"]] = (\n",
    "    diabetes_df.loc[\n",
    "        :, [\"Glucose\", \"BloodPressure\", \"SkinThickness\", \"Insulin\", \"BMI\"]\n",
    "    ].replace(0, np.NaN)\n",
    ")\n",
    "diabetes_df = diabetes_df.fillna(\n",
    "    {\n",
    "        \"Glucose\": diabetes_df[\"Glucose\"].mean(),\n",
    "        \"BloodPressure\": diabetes_df[\"BloodPressure\"].mean(),\n",
    "        \"SkinThickness\": diabetes_df[\"SkinThickness\"].median(),\n",
    "        \"Insulin\": diabetes_df[\"Insulin\"].median(),\n",
    "        \"BMI\": diabetes_df[\"BMI\"].median(),\n",
    "    }\n",
    ")"
   ]
  },
  {
   "cell_type": "code",
   "execution_count": null,
   "metadata": {
    "colab": {
     "base_uri": "https://localhost:8080/",
     "height": 1000
    },
    "executionInfo": {
     "elapsed": 51875,
     "status": "ok",
     "timestamp": 1663060658834,
     "user": {
      "displayName": "Emanuele Fabbiani",
      "userId": "14148944018343998200"
     },
     "user_tz": -120
    },
    "id": "gsoiC5OI6hrC",
    "outputId": "4de15174-6581-4710-9ef8-5d62db1b1a26"
   },
   "outputs": [],
   "source": [
    "sns.pairplot(diabetes_df, hue=\"Outcome\");"
   ]
  },
  {
   "cell_type": "markdown",
   "metadata": {
    "id": "KqKOm2mN6jkr"
   },
   "source": [
    "We see that Glucose may be the most important variable, as its distribution conditional to the outcome has the minumum overlap. \n",
    "\n",
    "We also note that the variables have weak correlation among themselves, which is good for a linear model.\n",
    "\n"
   ]
  },
  {
   "cell_type": "markdown",
   "metadata": {
    "id": "anbkK4Vx66-z"
   },
   "source": [
    "### Data Preparation"
   ]
  },
  {
   "cell_type": "markdown",
   "metadata": {
    "id": "nOgxyzgW68oC"
   },
   "source": [
    "All the variables are numeric, and we want to use all of them: therefore, we are going to generate the train and test dataset. We go for a random 80/20 split, but we stratify on the outcome."
   ]
  },
  {
   "cell_type": "code",
   "execution_count": null,
   "metadata": {
    "executionInfo": {
     "elapsed": 42,
     "status": "ok",
     "timestamp": 1663060658835,
     "user": {
      "displayName": "Emanuele Fabbiani",
      "userId": "14148944018343998200"
     },
     "user_tz": -120
    },
    "id": "Z4pdeibu7I7_"
   },
   "outputs": [],
   "source": [
    "from sklearn.model_selection import train_test_split\n",
    "\n",
    "x = diabetes_df.drop(columns=\"Outcome\")\n",
    "y = diabetes_df.Outcome\n",
    "\n",
    "x_train, x_test, y_train, y_test = train_test_split(\n",
    "    x, y, test_size=0.25, random_state=42, stratify=y\n",
    ")"
   ]
  },
  {
   "cell_type": "markdown",
   "metadata": {
    "id": "EqfJX5tI7Lti"
   },
   "source": [
    "### Modelling & evaluation\n",
    "\n",
    "We will use a simple logistic regression model.\n",
    "\n",
    "We train the model and we evaluate its out-of-sample performances using the confusione matrix and other classification metrics."
   ]
  },
  {
   "cell_type": "code",
   "execution_count": null,
   "metadata": {
    "colab": {
     "base_uri": "https://localhost:8080/",
     "height": 143
    },
    "executionInfo": {
     "elapsed": 41,
     "status": "ok",
     "timestamp": 1663060658836,
     "user": {
      "displayName": "Emanuele Fabbiani",
      "userId": "14148944018343998200"
     },
     "user_tz": -120
    },
    "id": "zk79p_sJ7LQ6",
    "outputId": "005fa700-5ab3-4824-a403-b4418116b2dd"
   },
   "outputs": [],
   "source": [
    "from sklearn.linear_model import LogisticRegression\n",
    "\n",
    "cls = LogisticRegression(\n",
    "    penalty=\"l2\", solver=\"liblinear\", C=10000, random_state=42\n",
    ")  # C is the inverse of lambda\n",
    "cls.fit(x_train, y_train)\n",
    "pred = cls.predict(x_test)\n",
    "pd.crosstab(y_test, pred, rownames=[\"True\"], colnames=[\"Predicted\"])"
   ]
  },
  {
   "cell_type": "markdown",
   "metadata": {
    "id": "TGuZgUNjRGnM"
   },
   "source": [
    "We are doing well on the real negative, but we are getting way too many false negatives. It may be that we are missing some non-linear relationship or that we just do not have enough information in the dataset.\n",
    "\n",
    "A useful tool is having a look to the classification report by sklearn, which recaps many useful metrics.\n",
    "\n",
    "See the [Stanford website](https://stanford.edu/~shervine/teaching/cs-229/cheatsheet-machine-learning-tips-and-tricks) for a refresher on classification metrics."
   ]
  },
  {
   "cell_type": "code",
   "execution_count": null,
   "metadata": {
    "colab": {
     "base_uri": "https://localhost:8080/"
    },
    "executionInfo": {
     "elapsed": 40,
     "status": "ok",
     "timestamp": 1663060658836,
     "user": {
      "displayName": "Emanuele Fabbiani",
      "userId": "14148944018343998200"
     },
     "user_tz": -120
    },
    "id": "w0VPQ4E0RmJg",
    "outputId": "28f5f963-5a41-4a0b-c765-7f1ade708751"
   },
   "outputs": [],
   "source": [
    "from sklearn.metrics import accuracy_score, precision_score, recall_score, f1_score\n",
    "\n",
    "print(f\"Accuracy: {accuracy_score(y_test, pred):.4f}\")\n",
    "print(f\"Precision: {precision_score(y_test, pred):.4f}\")\n",
    "print(f\"Recall: {recall_score(y_test, pred):.4f}\")\n",
    "print(f\"F1: {f1_score(y_test, pred):.4f}\")"
   ]
  },
  {
   "cell_type": "markdown",
   "metadata": {
    "id": "Y5H0gaQmUWuC"
   },
   "source": [
    "Finally, we have a look at the Receiver Operating Characteristic (ROC) curve."
   ]
  },
  {
   "cell_type": "code",
   "execution_count": null,
   "metadata": {
    "colab": {
     "base_uri": "https://localhost:8080/",
     "height": 494
    },
    "executionInfo": {
     "elapsed": 36,
     "status": "ok",
     "timestamp": 1663060658837,
     "user": {
      "displayName": "Emanuele Fabbiani",
      "userId": "14148944018343998200"
     },
     "user_tz": -120
    },
    "id": "LW-m0U9gUWMQ",
    "outputId": "84bf33d2-4600-4630-ccae-58726faf5d68"
   },
   "outputs": [],
   "source": [
    "from sklearn.metrics import roc_curve, roc_auc_score\n",
    "\n",
    "pred_proba = cls.predict_proba(x_test)[:, 1]\n",
    "fpr, tpr, _ = roc_curve(y_test, pred_proba)\n",
    "auc = roc_auc_score(y_test, pred_proba)\n",
    "plt.plot(fpr, tpr)\n",
    "plt.title(f\"ROC curve - AUC {auc:.3f}\")\n",
    "plt.show()"
   ]
  },
  {
   "cell_type": "markdown",
   "metadata": {
    "id": "X8YCYasRVQEI"
   },
   "source": [
    "Here is a quick recap of what the ROC curve is: the change in true positive rate and false positive rate as a function of the decision threshold.\n",
    "\n",
    "![image.png](data:image/png;base64,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)"
   ]
  }
 ],
 "metadata": {
  "anaconda-cloud": {},
  "colab": {
   "collapsed_sections": [],
   "provenance": [
    {
     "file_id": "https://github.com/jakevdp/PythonDataScienceHandbook/blob/master/notebooks/05.06-Linear-Regression.ipynb",
     "timestamp": 1662800904873
    }
   ]
  },
  "kernelspec": {
   "display_name": "Python 3",
   "language": "python",
   "name": "python3"
  },
  "language_info": {
   "codemirror_mode": {
    "name": "ipython",
    "version": 3
   },
   "file_extension": ".py",
   "mimetype": "text/x-python",
   "name": "python",
   "nbconvert_exporter": "python",
   "pygments_lexer": "ipython3",
   "version": "3.5.1"
  }
 },
 "nbformat": 4,
 "nbformat_minor": 0
}
